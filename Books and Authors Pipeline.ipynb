{
 "cells": [
  {
   "cell_type": "code",
   "execution_count": 3,
   "id": "63fa0dfd",
   "metadata": {},
   "outputs": [],
   "source": [
    "import requests\n",
    "import pandas as pd\n",
    "import sqlite3\n",
    "import json"
   ]
  },
  {
   "cell_type": "markdown",
   "id": "b9aec1fe",
   "metadata": {},
   "source": [
    "### Function to get the url API for Authors and return a the response as json"
   ]
  },
  {
   "cell_type": "code",
   "execution_count": 4,
   "id": "df16339d",
   "metadata": {},
   "outputs": [],
   "source": [
    "def get_author_result(author):\n",
    "    result = requests.get(f'https://openlibrary.org/search/authors.json?q={author}')\n",
    "    if result.status_code == 200:\n",
    "        return result.json()\n",
    "    else:\n",
    "        raise Exception('Error downloading API response')"
   ]
  },
  {
   "cell_type": "markdown",
   "id": "448e6087",
   "metadata": {},
   "source": [
    "### Function to get the url API for Titles and return a the response as json"
   ]
  },
  {
   "cell_type": "code",
   "execution_count": 5,
   "id": "6411adfa",
   "metadata": {},
   "outputs": [],
   "source": [
    "def get_title_result(title):\n",
    "    result = requests.get(f'https://openlibrary.org/search.json?title={title}')\n",
    "    if result.status_code == 200:\n",
    "        return result.json()\n",
    "    else:\n",
    "        raise Exception('Error downloading API response')"
   ]
  },
  {
   "cell_type": "code",
   "execution_count": 23,
   "id": "70309a10",
   "metadata": {},
   "outputs": [],
   "source": [
    "r = get_author_result('Harper Lee ')"
   ]
  },
  {
   "cell_type": "code",
   "execution_count": 24,
   "id": "c90c236e",
   "metadata": {},
   "outputs": [
    {
     "data": {
      "text/plain": [
       "{'numFound': 9,\n",
       " 'start': 0,\n",
       " 'numFoundExact': True,\n",
       " 'docs': [{'key': 'OL498120A',\n",
       "   'type': 'author',\n",
       "   'name': 'Harper Lee',\n",
       "   'birth_date': '28 April 1926',\n",
       "   'death_date': '19 February 2016',\n",
       "   'top_work': 'To Kill a Mockingbird',\n",
       "   'work_count': 27,\n",
       "   'top_subjects': ['Race relations',\n",
       "    'Fathers and daughters',\n",
       "    'Alabama',\n",
       "    'Southern states, fiction',\n",
       "    'Southern States',\n",
       "    'Fiction',\n",
       "    'Scout Finch (Fictitious character)',\n",
       "    'Fathers and daughters, fiction',\n",
       "    'Atticus Finch (Fictitious character)',\n",
       "    'Social change'],\n",
       "   '_version_': 1728894624643153928},\n",
       "  {'key': 'OL8058916A',\n",
       "   'type': 'author',\n",
       "   'name': 'Lee Harper',\n",
       "   'top_work': 'Complete Illustrated Encyclopedia of Cats and Kittens',\n",
       "   'work_count': 7,\n",
       "   'top_subjects': ['Protected DAISY',\n",
       "    'Fairy tales',\n",
       "    \"Children's fiction\",\n",
       "    'Cats',\n",
       "    'Accessible book'],\n",
       "   '_version_': 1715127014177898505},\n",
       "  {'key': 'OL6538404A',\n",
       "   'type': 'author',\n",
       "   'name': 'Lee Harper',\n",
       "   'birth_date': '1960',\n",
       "   'top_work': 'Snow! Snow! Snow!',\n",
       "   'work_count': 4,\n",
       "   'top_subjects': ['Protected DAISY',\n",
       "    'Accessible book',\n",
       "    'Juvenile fiction',\n",
       "    'Fiction',\n",
       "    'Cats',\n",
       "    'Snow',\n",
       "    'Sledding',\n",
       "    'Picture books for children',\n",
       "    'Pictorial works',\n",
       "    'Pets'],\n",
       "   '_version_': 1715122008532975625},\n",
       "  {'key': 'OL230192A',\n",
       "   'type': 'author',\n",
       "   'name': 'Nancy Lee Harper',\n",
       "   'top_work': \"Performing Pianist's Guide to Fingering\",\n",
       "   'work_count': 4,\n",
       "   'top_subjects': ['Composers, biography',\n",
       "    'Composers',\n",
       "    'Biography',\n",
       "    'Bibliography',\n",
       "    'Portugal',\n",
       "    'Piano music, bibliography',\n",
       "    'Piano music',\n",
       "    'Philosophy',\n",
       "    'Music, portuguese',\n",
       "    'Music, instruction and study'],\n",
       "   '_version_': 1715106402713731076},\n",
       "  {'key': 'OL458664A',\n",
       "   'type': 'author',\n",
       "   'name': 'Linda Lee Harper',\n",
       "   'top_work': 'A Failure of Loveliness (The William & Kingman Page Chapbook Award series)',\n",
       "   'work_count': 4,\n",
       "   'top_subjects': ['American poetry'],\n",
       "   '_version_': 1715114271241666567},\n",
       "  {'key': 'OL594140A',\n",
       "   'type': 'author',\n",
       "   'name': 'Donna Lee Harper',\n",
       "   'top_work': 'The Diary of Lillie Langtry',\n",
       "   'work_count': 2,\n",
       "   'top_subjects': ['Lillie Langtry (1853-1929)', 'Fiction'],\n",
       "   '_version_': 1715119615811518465},\n",
       "  {'key': 'OL5152389A',\n",
       "   'type': 'author',\n",
       "   'name': 'Li Ann Harper Lee',\n",
       "   'birth_date': '1939',\n",
       "   'top_work': 'Descendants of John C. Harper and Sarah Hurst',\n",
       "   'work_count': 2,\n",
       "   'top_subjects': ['Family',\n",
       "    'Texas',\n",
       "    'Kimbrough family',\n",
       "    'John N. Kimbrough (ca. 1735-ca. 1799)',\n",
       "    'John C. Harper (1787-1849)',\n",
       "    'Harper family',\n",
       "    'Genealogy',\n",
       "    'Alabama'],\n",
       "   '_version_': 1715116958475616263},\n",
       "  {'key': 'OL6818667A',\n",
       "   'type': 'author',\n",
       "   'name': 'Lois Lee Harper',\n",
       "   'top_work': 'Stier and Williams Funeral Home Records, Aurora, Indiana, 1910-1970',\n",
       "   'work_count': 1,\n",
       "   'top_subjects': ['Nonfiction', 'History'],\n",
       "   '_version_': 1715123048232779777},\n",
       "  {'key': 'OL5423993A',\n",
       "   'type': 'author',\n",
       "   'name': 'Lee Anne Harper-Femson',\n",
       "   'birth_date': '1957',\n",
       "   'top_work': \"Nurse practitioners' role satisfaction\",\n",
       "   'work_count': 1,\n",
       "   'top_subjects': ['Ontario', 'Nurse practitioners', 'Job satisfaction'],\n",
       "   '_version_': 1715117502959190022}]}"
      ]
     },
     "execution_count": 24,
     "metadata": {},
     "output_type": "execute_result"
    }
   ],
   "source": [
    "r"
   ]
  },
  {
   "cell_type": "code",
   "execution_count": 25,
   "id": "6f52b875",
   "metadata": {},
   "outputs": [],
   "source": [
    "key_list = ['key', 'name', 'birth_date', 'top_work', 'work_count']"
   ]
  },
  {
   "cell_type": "code",
   "execution_count": 26,
   "id": "f74b8f0a",
   "metadata": {},
   "outputs": [
    {
     "name": "stdout",
     "output_type": "stream",
     "text": [
      "OL498120A\n",
      "Harper Lee\n",
      "28 April 1926\n",
      "To Kill a Mockingbird\n",
      "27\n",
      "Harper, Lee\n"
     ]
    }
   ],
   "source": [
    "for key in key_list:\n",
    "    print(r['docs'][0][key])\n",
    "    full_name = r['docs'][0]['name'].split()\n",
    "f_name = full_name[0]\n",
    "l_name = full_name[1]\n",
    "print(f'{f_name}, {l_name}')"
   ]
  },
  {
   "cell_type": "code",
   "execution_count": null,
   "id": "663be934",
   "metadata": {},
   "outputs": [],
   "source": []
  },
  {
   "cell_type": "code",
   "execution_count": null,
   "id": "908b13ea",
   "metadata": {},
   "outputs": [],
   "source": []
  },
  {
   "cell_type": "code",
   "execution_count": null,
   "id": "afea7148",
   "metadata": {},
   "outputs": [],
   "source": []
  },
  {
   "cell_type": "code",
   "execution_count": null,
   "id": "c55d5343",
   "metadata": {},
   "outputs": [],
   "source": []
  },
  {
   "cell_type": "markdown",
   "id": "0b59d3ed",
   "metadata": {},
   "source": [
    "## Author DB CSV and DataFrame will use the key in the json response as a primary key \n",
    "\n",
    "### author_id | first_name | last_name |  birth_date | top_work | work_count"
   ]
  },
  {
   "cell_type": "raw",
   "id": "8957950a",
   "metadata": {},
   "source": [
    "\"\"\"CREATE TABLE authors (\n",
    "    author_id text PRIMARY KEY,\n",
    " \tfirst_name text NOT NULL,\n",
    " \tlast_name text NOT NULL,\n",
    " \tbirth_date text NOT NULL,\n",
    " \ttop_work text NOT NULL,\n",
    " \twork_count integer NOT NULL\n",
    " \t)\"\"\""
   ]
  },
  {
   "cell_type": "markdown",
   "id": "f61c75e6",
   "metadata": {},
   "source": [
    "## Books DB CSV and DataFrame will use the key in the json responce as a primary key\n",
    "\n",
    "### book_id | title | author_fname | author_lname | first_publish_year | "
   ]
  },
  {
   "cell_type": "raw",
   "id": "ceb300f8",
   "metadata": {},
   "source": [
    "\"\"\"CREATE TABLE books (\n",
    "     book_id text PRIMARY KEY,\n",
    "     title text NOT NULL,\n",
    "     author_fname text NOT NULL,\n",
    "     author_lname text NOT NULL,\n",
    "     first_publish_year text NOT NULL\n",
    "     )\"\"\""
   ]
  },
  {
   "cell_type": "markdown",
   "id": "689b341e",
   "metadata": {},
   "source": [
    "## Bridge table will use Author key and Book key to link book and author\n",
    "\n",
    "### author_id | book_id"
   ]
  },
  {
   "cell_type": "raw",
   "id": "0e5f4363",
   "metadata": {},
   "source": [
    "\"\"\"CREATE TABLE authors_books (\n",
    "     author_id text NOT NULL,\n",
    "     book_id text NOT NULL,\n",
    "     PRIMARY KEY (author_id, book_id),\n",
    "     FOREIGN KEY(author_id) REFERENCES authors(author_id),\n",
    "     FOREIGN KEY(book_id) REFERENCES books(book_id)\n",
    "     )\"\"\""
   ]
  },
  {
   "cell_type": "markdown",
   "id": "e9da5782",
   "metadata": {},
   "source": [
    "## Create DB and tables for the exercise"
   ]
  },
  {
   "cell_type": "code",
   "execution_count": null,
   "id": "9148c3fd",
   "metadata": {},
   "outputs": [],
   "source": [
    "conn = sqlite3.connect('author_books.db')\n",
    "c = conn.cursor()"
   ]
  },
  {
   "cell_type": "code",
   "execution_count": null,
   "id": "4baee7da",
   "metadata": {},
   "outputs": [],
   "source": [
    "c.execute(\"\"\"CREATE TABLE authors (\n",
    "    author_id text PRIMARY KEY,\n",
    "    first_name text NOT NULL,\n",
    "    last_name text NOT NULL,\n",
    "    birth_date text NOT NULL,\n",
    "    top_work text NOT NULL,\n",
    "    work_count integer NOT NULL\n",
    "    )\"\"\")\n",
    "\n",
    "c.execute(\"\"\"CREATE TABLE books (\n",
    "    book_id text PRIMARY KEY,\n",
    "    title text NOT NULL,\n",
    "    author_fname text NOT NULL,\n",
    "    author_lname text NOT NULL,\n",
    "    first_publish_year text NOT NULL\n",
    "    )\"\"\")\n",
    "\n",
    "c.execute(\"\"\"CREATE TABLE authors_books (\n",
    "    author_id text NOT NULL,\n",
    "    book_id text NOT NULL,\n",
    "    PRIMARY KEY (author_id, book_id),\n",
    "    FOREIGN KEY(author_id) REFERENCES authors(author_id),\n",
    "    FOREIGN KEY(book_id) REFERENCES books(book_id)\n",
    "    )\"\"\")"
   ]
  },
  {
   "cell_type": "raw",
   "id": "6b91f9bc",
   "metadata": {},
   "source": [
    "QUERY to union the result of the 2 tables autors and books using the authors_books table\n",
    " \n",
    "c.execute(\"\"\"\n",
    "    SELECT a.author_id , b.book_id , b.title, a.first_name, a.last_name\n",
    "    FROM authors as a\n",
    "    JOIN authors_books ON a.author_id = authors_books.author_id\n",
    "    JOIN books as b ON b.book_id = authors_books.book_id\n",
    "\"\"\")"
   ]
  },
  {
   "cell_type": "raw",
   "id": "1d4d6450",
   "metadata": {},
   "source": [
    "QUERY to insert into the authors table\n",
    "c.execute(\"\"\"INSERT INTO authors VALUES( ?,?,?,?,?,?)\"\"\",(author_id, first_name, last_name, birth_date, top_work, work_count))\n",
    "\n",
    "QUERY to insert into the books table\n",
    "c.execute(\"\"\"INSERT INTO books VALUES(?,?,?,?,?)\"\"\",(book_id, title, author_fname, author_lname, first_publish_year))\n",
    "\n",
    "QUERY to insert into the authors_books table\n",
    "c.execute(\"\"\"INSERT INTO <table> VALUES(?,?)\"\"\",(author_id, book_id))"
   ]
  },
  {
   "cell_type": "raw",
   "id": "c7dce8b7",
   "metadata": {},
   "source": [
    "Converting sql query to a DataFrame for converting it to a CSV file \n",
    "\n",
    "df = pd.read_sql_query(f''SELECT * from {table}, conn)"
   ]
  }
 ],
 "metadata": {
  "kernelspec": {
   "display_name": "Python 3 (ipykernel)",
   "language": "python",
   "name": "python3"
  },
  "language_info": {
   "codemirror_mode": {
    "name": "ipython",
    "version": 3
   },
   "file_extension": ".py",
   "mimetype": "text/x-python",
   "name": "python",
   "nbconvert_exporter": "python",
   "pygments_lexer": "ipython3",
   "version": "3.9.11"
  }
 },
 "nbformat": 4,
 "nbformat_minor": 5
}
