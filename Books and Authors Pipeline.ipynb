{
 "cells": [
  {
   "cell_type": "code",
   "execution_count": 3,
   "id": "f8efc7c4",
   "metadata": {},
   "outputs": [],
   "source": [
    "import requests\n",
    "import pandas as pd\n",
    "import sqlite3\n",
    "import json"
   ]
  },
  {
   "cell_type": "markdown",
   "id": "5442b4bf",
   "metadata": {},
   "source": [
    "### Function to get the url API for Authors and return a the response as json"
   ]
  },
  {
   "cell_type": "code",
   "execution_count": 4,
   "id": "039305ab",
   "metadata": {},
   "outputs": [],
   "source": [
    "def get_author_result(author):\n",
    "    result = requests.get(f'https://openlibrary.org/search/authors.json?q={author}')\n",
    "    if result.status_code == 200:\n",
    "        return result.json()\n",
    "    else:\n",
    "        raise Exception('Error downloading API response')"
   ]
  },
  {
   "cell_type": "markdown",
   "id": "b103f7ca",
   "metadata": {},
   "source": [
    "### Function to get the url API for Titles and return a the response as json"
   ]
  },
  {
   "cell_type": "code",
   "execution_count": 5,
   "id": "2943b4d4",
   "metadata": {},
   "outputs": [],
   "source": [
    "def get_title_result(title):\n",
    "    result = requests.get(f'https://openlibrary.org/search.json?title={title}')\n",
    "    if result.status_code == 200:\n",
    "        return result.json()\n",
    "    else:\n",
    "        raise Exception('Error downloading API response')"
   ]
  },
  {
   "cell_type": "markdown",
   "id": "803b4de7",
   "metadata": {},
   "source": [
    "### Testing funtion to get author data"
   ]
  },
  {
   "cell_type": "code",
   "execution_count": 103,
   "id": "6a7926c0",
   "metadata": {},
   "outputs": [],
   "source": [
    "r = get_author_result('Nassim Taleb')"
   ]
  },
  {
   "cell_type": "code",
   "execution_count": 99,
   "id": "2570d810",
   "metadata": {},
   "outputs": [],
   "source": [
    "key_list = ['key', 'name', 'birth_date', 'top_work', 'work_count']"
   ]
  },
  {
   "cell_type": "code",
   "execution_count": 100,
   "id": "cd46f00f",
   "metadata": {},
   "outputs": [],
   "source": [
    "no_result = get_author_result('Dashiell Hammet')"
   ]
  },
  {
   "cell_type": "code",
   "execution_count": 64,
   "id": "2e04169d",
   "metadata": {},
   "outputs": [
    {
     "name": "stdout",
     "output_type": "stream",
     "text": [
      "No result for that author please check the spelling\n"
     ]
    }
   ],
   "source": [
    "if no_result['numFound'] == 0:\n",
    "    print('No result for that author please check the spelling')"
   ]
  },
  {
   "cell_type": "code",
   "execution_count": 31,
   "id": "88bf8d08",
   "metadata": {},
   "outputs": [],
   "source": [
    "# Function to get a tuple to enter in the author DB\n",
    "\n",
    "def tuple_for_query(data):\n",
    "    author_id = r['docs'][0]['key']\n",
    "    full_name = r['docs'][0]['name'].split()\n",
    "    f_name = full_name[0]\n",
    "    l_name = full_name[1]\n",
    "    b_date = r['docs'][0]['birth_date']\n",
    "    t_work = r['docs'][0]['top_work']\n",
    "    w_count = r['docs'][0]['work_count']\n",
    "    \n",
    "\n",
    "    query_tuple = (author_id, f_name, l_name, b_date, t_work, w_count)\n",
    "    \n",
    "    return query_tuple"
   ]
  },
  {
   "cell_type": "code",
   "execution_count": 104,
   "id": "fb78ef08",
   "metadata": {},
   "outputs": [],
   "source": [
    "data = tuple_for_query(r)"
   ]
  },
  {
   "cell_type": "code",
   "execution_count": 105,
   "id": "193dbd74",
   "metadata": {},
   "outputs": [
    {
     "data": {
      "text/plain": [
       "('OL538956A',\n",
       " 'Nassim',\n",
       " 'Nicholas',\n",
       " '11 September 1960',\n",
       " 'The Black Swan: The Impact of the Highly Improbable',\n",
       " 38)"
      ]
     },
     "execution_count": 105,
     "metadata": {},
     "output_type": "execute_result"
    }
   ],
   "source": [
    "data"
   ]
  },
  {
   "cell_type": "markdown",
   "id": "b55ccaf8",
   "metadata": {},
   "source": [
    "### Testing get title function"
   ]
  },
  {
   "cell_type": "code",
   "execution_count": 93,
   "id": "5fb7ec18",
   "metadata": {},
   "outputs": [],
   "source": [
    "title_r = get_title_result('blank slate')"
   ]
  },
  {
   "cell_type": "code",
   "execution_count": 94,
   "id": "776149b1",
   "metadata": {},
   "outputs": [
    {
     "name": "stdout",
     "output_type": "stream",
     "text": [
      "OL477826W\n",
      "The Blank Slate\n",
      "2002\n",
      "OL29930A\n",
      "Steven Pinker\n"
     ]
    }
   ],
   "source": [
    "print(title_r['docs'][0]['key'][7:])\n",
    "print(title_r['docs'][0]['title'])\n",
    "print(title_r['docs'][0]['first_publish_year'])\n",
    "print(title_r['docs'][0]['author_key'][0])\n",
    "print(title_r['docs'][0]['author_name'][0])"
   ]
  },
  {
   "cell_type": "code",
   "execution_count": 56,
   "id": "c2c6a4cb",
   "metadata": {},
   "outputs": [],
   "source": [
    "def tuple_query_title(data):\n",
    "    book_id = data['docs'][0]['key'][7:]\n",
    "    title = data['docs'][0]['title']\n",
    "    f_year_pub = data['docs'][0]['first_publish_year']\n",
    "    author_key = data['docs'][0]['author_key'][0]\n",
    "    author_name = data['docs'][0]['author_name'][0].split()\n",
    "    author_f_name = author_name[0]\n",
    "    author_l_name = author_name[1]\n",
    "    \n",
    "    result = (book_id, title, author_f_name, author_l_name, f_year_pub) \n",
    "    return result"
   ]
  },
  {
   "cell_type": "code",
   "execution_count": 57,
   "id": "18d3aea5",
   "metadata": {},
   "outputs": [],
   "source": [
    "def tuple_query_authors_books(data):\n",
    "    author_key = data['docs'][0]['author_key'][0]\n",
    "    book_id = data['docs'][0]['key'][7:]\n",
    "    \n",
    "    result = (author_key, book_id)\n",
    "    return result"
   ]
  },
  {
   "cell_type": "code",
   "execution_count": 58,
   "id": "0bac0737",
   "metadata": {},
   "outputs": [
    {
     "data": {
      "text/plain": [
       "('OL27448W', 'The Lord of the Rings', 'J.R.R.', 'Tolkien', 1954)"
      ]
     },
     "execution_count": 58,
     "metadata": {},
     "output_type": "execute_result"
    }
   ],
   "source": [
    "tuple_query_title(title_r)"
   ]
  },
  {
   "cell_type": "code",
   "execution_count": 73,
   "id": "bc496589",
   "metadata": {},
   "outputs": [
    {
     "data": {
      "text/plain": [
       "('OL26320A', 'OL27448W')"
      ]
     },
     "execution_count": 73,
     "metadata": {},
     "output_type": "execute_result"
    }
   ],
   "source": [
    "tuple_query_authors_books(title_r)"
   ]
  },
  {
   "cell_type": "code",
   "execution_count": null,
   "id": "7060352a",
   "metadata": {},
   "outputs": [],
   "source": []
  },
  {
   "cell_type": "markdown",
   "id": "2b5bd7db",
   "metadata": {},
   "source": [
    "## Author DB CSV and DataFrame will use the key in the json response as a primary key \n",
    "\n",
    "### author_id | first_name | last_name |  birth_date | top_work | work_count"
   ]
  },
  {
   "cell_type": "raw",
   "id": "737e5651",
   "metadata": {},
   "source": [
    "\"\"\"CREATE TABLE authors (\n",
    "    author_id text PRIMARY KEY,\n",
    " \tfirst_name text NOT NULL,\n",
    " \tlast_name text NOT NULL,\n",
    " \tbirth_date text NOT NULL,\n",
    " \ttop_work text NOT NULL,\n",
    " \twork_count integer NOT NULL\n",
    " \t)\"\"\""
   ]
  },
  {
   "cell_type": "markdown",
   "id": "38dd6678",
   "metadata": {},
   "source": [
    "## Books DB CSV and DataFrame will use the key in the json responce as a primary key\n",
    "\n",
    "### book_id | title | author_fname | author_lname | first_publish_year | "
   ]
  },
  {
   "cell_type": "raw",
   "id": "91afe4fe",
   "metadata": {},
   "source": [
    "\"\"\"CREATE TABLE books (\n",
    "     book_id text PRIMARY KEY,\n",
    "     title text NOT NULL,\n",
    "     author_fname text NOT NULL,\n",
    "     author_lname text NOT NULL,\n",
    "     first_publish_year text NOT NULL\n",
    "     )\"\"\""
   ]
  },
  {
   "cell_type": "markdown",
   "id": "a1a80137",
   "metadata": {},
   "source": [
    "## Bridge table will use Author key and Book key to link book and author\n",
    "\n",
    "### author_id | book_id"
   ]
  },
  {
   "cell_type": "raw",
   "id": "4b4cd498",
   "metadata": {},
   "source": [
    "\"\"\"CREATE TABLE authors_books (\n",
    "     author_id text NOT NULL,\n",
    "     book_id text NOT NULL,\n",
    "     PRIMARY KEY (author_id, book_id),\n",
    "     FOREIGN KEY(author_id) REFERENCES authors(author_id),\n",
    "     FOREIGN KEY(book_id) REFERENCES books(book_id)\n",
    "     )\"\"\""
   ]
  },
  {
   "cell_type": "markdown",
   "id": "b9ff8bf9",
   "metadata": {},
   "source": [
    "## Create DB and tables for the exercise"
   ]
  },
  {
   "cell_type": "code",
   "execution_count": 60,
   "id": "26e23647",
   "metadata": {},
   "outputs": [],
   "source": [
    "conn = sqlite3.connect('author_books.db')\n",
    "c = conn.cursor()"
   ]
  },
  {
   "cell_type": "code",
   "execution_count": 61,
   "id": "ca0a574f",
   "metadata": {},
   "outputs": [
    {
     "data": {
      "text/plain": [
       "<sqlite3.Cursor at 0x1e69f051260>"
      ]
     },
     "execution_count": 61,
     "metadata": {},
     "output_type": "execute_result"
    }
   ],
   "source": [
    "c.execute(\"\"\"CREATE TABLE authors (\n",
    "    author_id text PRIMARY KEY,\n",
    "    first_name text NOT NULL,\n",
    "    last_name text NOT NULL,\n",
    "    birth_date text NOT NULL,\n",
    "    top_work text NOT NULL,\n",
    "    work_count integer NOT NULL\n",
    "    )\"\"\")\n",
    "\n",
    "c.execute(\"\"\"CREATE TABLE books (\n",
    "    book_id text PRIMARY KEY,\n",
    "    title text NOT NULL,\n",
    "    author_fname text NOT NULL,\n",
    "    author_lname text NOT NULL,\n",
    "    first_publish_year text NOT NULL\n",
    "    )\"\"\")\n",
    "\n",
    "c.execute(\"\"\"CREATE TABLE authors_books (\n",
    "    author_id text NOT NULL,\n",
    "    book_id text NOT NULL,\n",
    "    PRIMARY KEY (author_id, book_id),\n",
    "    FOREIGN KEY(author_id) REFERENCES authors(author_id),\n",
    "    FOREIGN KEY(book_id) REFERENCES books(book_id)\n",
    "    )\"\"\")"
   ]
  },
  {
   "cell_type": "code",
   "execution_count": 69,
   "id": "74462f34",
   "metadata": {},
   "outputs": [],
   "source": [
    "def db_table_authors_books(conn):\n",
    "    conn.execute(\"\"\"\n",
    "        SELECT a.author_id , b.book_id , b.title, a.first_name, a.last_name\n",
    "        FROM authors as a\n",
    "        JOIN authors_books ON a.author_id = authors_books.author_id\n",
    "        JOIN books as b ON b.book_id = authors_books.book_id\n",
    "    \"\"\")\n",
    "\n",
    "    result = conn.fetchall()\n",
    "    \n",
    "    return result"
   ]
  },
  {
   "cell_type": "code",
   "execution_count": 70,
   "id": "1c802a71",
   "metadata": {},
   "outputs": [
    {
     "data": {
      "text/plain": [
       "[]"
      ]
     },
     "execution_count": 70,
     "metadata": {},
     "output_type": "execute_result"
    }
   ],
   "source": [
    "db_table_authors_books(c)"
   ]
  },
  {
   "cell_type": "raw",
   "id": "367dd77d",
   "metadata": {},
   "source": [
    "QUERY to union the result of the 2 tables autors and books using the authors_books table\n",
    " \n",
    "c.execute(\"\"\"\n",
    "    SELECT a.author_id , b.book_id , b.title, a.first_name, a.last_name\n",
    "    FROM authors as a\n",
    "    JOIN authors_books ON a.author_id = authors_books.author_id\n",
    "    JOIN books as b ON b.book_id = authors_books.book_id\n",
    "\"\"\")"
   ]
  },
  {
   "cell_type": "raw",
   "id": "b84d63b4",
   "metadata": {},
   "source": [
    "QUERY to insert into the authors table\n",
    "c.execute(\"\"\"INSERT INTO authors VALUES( ?,?,?,?,?,?)\"\"\",(author_id, first_name, last_name, birth_date, top_work, work_count))\n",
    "\n",
    "QUERY to insert into the books table\n",
    "c.execute(\"\"\"INSERT INTO books VALUES(?,?,?,?,?)\"\"\",(book_id, title, author_fname, author_lname, first_publish_year))\n",
    "\n",
    "QUERY to insert into the authors_books table\n",
    "c.execute(\"\"\"INSERT INTO <table> VALUES(?,?)\"\"\",(author_id, book_id))"
   ]
  },
  {
   "cell_type": "raw",
   "id": "edf045b8",
   "metadata": {},
   "source": [
    "Converting sql query to a DataFrame for converting it to a CSV file \n",
    "\n",
    "df = pd.read_sql_query(f''SELECT * from {table}, conn)"
   ]
  },
  {
   "cell_type": "code",
   "execution_count": 95,
   "id": "a2110fda",
   "metadata": {},
   "outputs": [],
   "source": [
    "df = pd.read_sql_query('SELECT * from authors', conn)"
   ]
  },
  {
   "cell_type": "code",
   "execution_count": 96,
   "id": "99044465",
   "metadata": {},
   "outputs": [
    {
     "data": {
      "text/html": [
       "<div>\n",
       "<style scoped>\n",
       "    .dataframe tbody tr th:only-of-type {\n",
       "        vertical-align: middle;\n",
       "    }\n",
       "\n",
       "    .dataframe tbody tr th {\n",
       "        vertical-align: top;\n",
       "    }\n",
       "\n",
       "    .dataframe thead th {\n",
       "        text-align: right;\n",
       "    }\n",
       "</style>\n",
       "<table border=\"1\" class=\"dataframe\">\n",
       "  <thead>\n",
       "    <tr style=\"text-align: right;\">\n",
       "      <th></th>\n",
       "      <th>author_id</th>\n",
       "      <th>first_name</th>\n",
       "      <th>last_name</th>\n",
       "      <th>birth_date</th>\n",
       "      <th>top_work</th>\n",
       "      <th>work_count</th>\n",
       "    </tr>\n",
       "  </thead>\n",
       "  <tbody>\n",
       "    <tr>\n",
       "      <th>0</th>\n",
       "      <td>OL28314A</td>\n",
       "      <td>Dashiell</td>\n",
       "      <td>Hammett</td>\n",
       "      <td>27 May 1894</td>\n",
       "      <td>The Maltese Falcon</td>\n",
       "      <td>140</td>\n",
       "    </tr>\n",
       "    <tr>\n",
       "      <th>1</th>\n",
       "      <td>OL18319A</td>\n",
       "      <td>Mark</td>\n",
       "      <td>Twain</td>\n",
       "      <td>30 November 1835</td>\n",
       "      <td>Adventures of Huckleberry Finn</td>\n",
       "      <td>2899</td>\n",
       "    </tr>\n",
       "    <tr>\n",
       "      <th>2</th>\n",
       "      <td>OL1398754A</td>\n",
       "      <td>Malcolm</td>\n",
       "      <td>Gladwell</td>\n",
       "      <td>September 3, 1963</td>\n",
       "      <td>Blink: The Power of Thinking Without Thinking</td>\n",
       "      <td>28</td>\n",
       "    </tr>\n",
       "    <tr>\n",
       "      <th>3</th>\n",
       "      <td>OL26320A</td>\n",
       "      <td>J.R.R.</td>\n",
       "      <td>Tolkien</td>\n",
       "      <td>3 January 1892</td>\n",
       "      <td>The Hobbit</td>\n",
       "      <td>309</td>\n",
       "    </tr>\n",
       "    <tr>\n",
       "      <th>4</th>\n",
       "      <td>OL29930A</td>\n",
       "      <td>Steven</td>\n",
       "      <td>Pinker</td>\n",
       "      <td>1954</td>\n",
       "      <td>The Language Instinct (\"Daily Telegraph\" Talki...</td>\n",
       "      <td>36</td>\n",
       "    </tr>\n",
       "  </tbody>\n",
       "</table>\n",
       "</div>"
      ],
      "text/plain": [
       "    author_id first_name last_name         birth_date  \\\n",
       "0    OL28314A   Dashiell   Hammett        27 May 1894   \n",
       "1    OL18319A       Mark     Twain   30 November 1835   \n",
       "2  OL1398754A    Malcolm  Gladwell  September 3, 1963   \n",
       "3    OL26320A     J.R.R.   Tolkien     3 January 1892   \n",
       "4    OL29930A     Steven    Pinker               1954   \n",
       "\n",
       "                                            top_work  work_count  \n",
       "0                                 The Maltese Falcon         140  \n",
       "1                     Adventures of Huckleberry Finn        2899  \n",
       "2      Blink: The Power of Thinking Without Thinking          28  \n",
       "3                                         The Hobbit         309  \n",
       "4  The Language Instinct (\"Daily Telegraph\" Talki...          36  "
      ]
     },
     "execution_count": 96,
     "metadata": {},
     "output_type": "execute_result"
    }
   ],
   "source": [
    "df"
   ]
  },
  {
   "cell_type": "code",
   "execution_count": 97,
   "id": "0dc5cf3a",
   "metadata": {},
   "outputs": [],
   "source": [
    "# Converting pandas to csv file \n",
    "df.to_csv('authors.csv',index=False)"
   ]
  },
  {
   "cell_type": "code",
   "execution_count": null,
   "id": "c0f4b8f7",
   "metadata": {},
   "outputs": [],
   "source": []
  }
 ],
 "metadata": {
  "kernelspec": {
   "display_name": "Python 3 (ipykernel)",
   "language": "python",
   "name": "python3"
  },
  "language_info": {
   "codemirror_mode": {
    "name": "ipython",
    "version": 3
   },
   "file_extension": ".py",
   "mimetype": "text/x-python",
   "name": "python",
   "nbconvert_exporter": "python",
   "pygments_lexer": "ipython3",
   "version": "3.9.11"
  }
 },
 "nbformat": 4,
 "nbformat_minor": 5
}
