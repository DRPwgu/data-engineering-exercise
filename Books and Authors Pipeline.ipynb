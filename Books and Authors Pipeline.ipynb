{
 "cells": [
  {
   "cell_type": "code",
   "execution_count": 3,
   "id": "890d337c",
   "metadata": {},
   "outputs": [],
   "source": [
    "import requests\n",
    "import pandas as pd\n",
    "import sqlite3\n",
    "import json"
   ]
  },
  {
   "cell_type": "markdown",
   "id": "9c621d76",
   "metadata": {},
   "source": [
    "### Function to get the url API for Authors and return a the response as json"
   ]
  },
  {
   "cell_type": "code",
   "execution_count": 4,
   "id": "28e0b4c7",
   "metadata": {},
   "outputs": [],
   "source": [
    "def get_author_result(author):\n",
    "    result = requests.get(f'https://openlibrary.org/search/authors.json?q={author}')\n",
    "    if result.status_code == 200:\n",
    "        return result.json()\n",
    "    else:\n",
    "        raise Exception('Error downloading API response')"
   ]
  },
  {
   "cell_type": "markdown",
   "id": "b032bfbc",
   "metadata": {},
   "source": [
    "### Function to get the url API for Titles and return a the response as json"
   ]
  },
  {
   "cell_type": "code",
   "execution_count": 5,
   "id": "0c6477da",
   "metadata": {},
   "outputs": [],
   "source": [
    "def get_title_result(title):\n",
    "    result = requests.get(f'https://openlibrary.org/search.json?title={title}')\n",
    "    if result.status_code == 200:\n",
    "        return result.json()\n",
    "    else:\n",
    "        raise Exception('Error downloading API response')"
   ]
  },
  {
   "cell_type": "markdown",
   "id": "6946e299",
   "metadata": {},
   "source": [
    "### Testing funtion to get author data"
   ]
  },
  {
   "cell_type": "code",
   "execution_count": 23,
   "id": "6ec6e08d",
   "metadata": {},
   "outputs": [],
   "source": [
    "r = get_author_result('Harper Lee ')"
   ]
  },
  {
   "cell_type": "code",
   "execution_count": 25,
   "id": "a746aacb",
   "metadata": {},
   "outputs": [],
   "source": [
    "key_list = ['key', 'name', 'birth_date', 'top_work', 'work_count']"
   ]
  },
  {
   "cell_type": "code",
   "execution_count": 63,
   "id": "2d46a4ed",
   "metadata": {},
   "outputs": [],
   "source": [
    "no_result = get_author_result('Dashiell Hammet')"
   ]
  },
  {
   "cell_type": "code",
   "execution_count": 64,
   "id": "f26b1bfb",
   "metadata": {},
   "outputs": [
    {
     "name": "stdout",
     "output_type": "stream",
     "text": [
      "No result for that author please check the spelling\n"
     ]
    }
   ],
   "source": [
    "if no_result['numFound'] == 0:\n",
    "    print('No result for that author please check the spelling')"
   ]
  },
  {
   "cell_type": "code",
   "execution_count": 31,
   "id": "62b04689",
   "metadata": {},
   "outputs": [],
   "source": [
    "# Function to get a tuple to enter in the author DB\n",
    "\n",
    "def tuple_for_query(data):\n",
    "    author_id = r['docs'][0]['key']\n",
    "    full_name = r['docs'][0]['name'].split()\n",
    "    f_name = full_name[0]\n",
    "    l_name = full_name[1]\n",
    "    b_date = r['docs'][0]['birth_date']\n",
    "    t_work = r['docs'][0]['top_work']\n",
    "    w_count = r['docs'][0]['work_count']\n",
    "    \n",
    "\n",
    "    query_tuple = (author_id, f_name, l_name, b_date, t_work, w_count)\n",
    "    \n",
    "    return query_tuple"
   ]
  },
  {
   "cell_type": "code",
   "execution_count": 29,
   "id": "e9252479",
   "metadata": {},
   "outputs": [],
   "source": [
    "data = tuple_for_query(r)"
   ]
  },
  {
   "cell_type": "code",
   "execution_count": 30,
   "id": "9ed37ee7",
   "metadata": {},
   "outputs": [
    {
     "data": {
      "text/plain": [
       "('OL498120A', 'Harper', 'Lee', '28 April 1926', 'To Kill a Mockingbird', 27)"
      ]
     },
     "execution_count": 30,
     "metadata": {},
     "output_type": "execute_result"
    }
   ],
   "source": [
    "data"
   ]
  },
  {
   "cell_type": "markdown",
   "id": "46686e3a",
   "metadata": {},
   "source": [
    "### Testing get title function"
   ]
  },
  {
   "cell_type": "code",
   "execution_count": 53,
   "id": "e8d66c8a",
   "metadata": {},
   "outputs": [],
   "source": [
    "title_r = get_title_result('Lord of the Ring')"
   ]
  },
  {
   "cell_type": "code",
   "execution_count": 55,
   "id": "8dd3a1a0",
   "metadata": {},
   "outputs": [
    {
     "name": "stdout",
     "output_type": "stream",
     "text": [
      "OL27448W\n",
      "The Lord of the Rings\n",
      "1954\n",
      "OL26320A\n",
      "J.R.R. Tolkien\n"
     ]
    }
   ],
   "source": [
    "print(title_r['docs'][0]['key'][7:])\n",
    "print(title_r['docs'][0]['title'])\n",
    "print(title_r['docs'][0]['first_publish_year'])\n",
    "print(title_r['docs'][0]['author_key'][0])\n",
    "print(title_r['docs'][0]['author_name'][0])"
   ]
  },
  {
   "cell_type": "code",
   "execution_count": 56,
   "id": "15c1c739",
   "metadata": {},
   "outputs": [],
   "source": [
    "def tuple_query_title(data):\n",
    "    book_id = data['docs'][0]['key'][7:]\n",
    "    title = data['docs'][0]['title']\n",
    "    f_year_pub = data['docs'][0]['first_publish_year']\n",
    "    author_key = data['docs'][0]['author_key'][0]\n",
    "    author_name = data['docs'][0]['author_name'][0].split()\n",
    "    author_f_name = author_name[0]\n",
    "    author_l_name = author_name[1]\n",
    "    \n",
    "    result = (book_id, title, author_f_name, author_l_name, f_year_pub) \n",
    "    return result"
   ]
  },
  {
   "cell_type": "code",
   "execution_count": 57,
   "id": "a3ce2c0b",
   "metadata": {},
   "outputs": [],
   "source": [
    "def tuple_query_authors_books(data):\n",
    "    author_key = data['docs'][0]['author_key'][0]\n",
    "    book_id = data['docs'][0]['key'][7:]\n",
    "    \n",
    "    result = (author_key, book_id)\n",
    "    return result"
   ]
  },
  {
   "cell_type": "code",
   "execution_count": 58,
   "id": "36e74ecc",
   "metadata": {},
   "outputs": [
    {
     "data": {
      "text/plain": [
       "('OL27448W', 'The Lord of the Rings', 'J.R.R.', 'Tolkien', 1954)"
      ]
     },
     "execution_count": 58,
     "metadata": {},
     "output_type": "execute_result"
    }
   ],
   "source": [
    "tuple_query_title(title_r)"
   ]
  },
  {
   "cell_type": "code",
   "execution_count": 59,
   "id": "bc343f75",
   "metadata": {},
   "outputs": [
    {
     "data": {
      "text/plain": [
       "('OL26320A', 'OL27448W')"
      ]
     },
     "execution_count": 59,
     "metadata": {},
     "output_type": "execute_result"
    }
   ],
   "source": [
    "tuple_query_authors_books(title_r)"
   ]
  },
  {
   "cell_type": "code",
   "execution_count": null,
   "id": "bbe59db8",
   "metadata": {},
   "outputs": [],
   "source": []
  },
  {
   "cell_type": "markdown",
   "id": "6cc505e9",
   "metadata": {},
   "source": [
    "## Author DB CSV and DataFrame will use the key in the json response as a primary key \n",
    "\n",
    "### author_id | first_name | last_name |  birth_date | top_work | work_count"
   ]
  },
  {
   "cell_type": "raw",
   "id": "2484d9c4",
   "metadata": {},
   "source": [
    "\"\"\"CREATE TABLE authors (\n",
    "    author_id text PRIMARY KEY,\n",
    " \tfirst_name text NOT NULL,\n",
    " \tlast_name text NOT NULL,\n",
    " \tbirth_date text NOT NULL,\n",
    " \ttop_work text NOT NULL,\n",
    " \twork_count integer NOT NULL\n",
    " \t)\"\"\""
   ]
  },
  {
   "cell_type": "markdown",
   "id": "75be8a2e",
   "metadata": {},
   "source": [
    "## Books DB CSV and DataFrame will use the key in the json responce as a primary key\n",
    "\n",
    "### book_id | title | author_fname | author_lname | first_publish_year | "
   ]
  },
  {
   "cell_type": "raw",
   "id": "8fe69be8",
   "metadata": {},
   "source": [
    "\"\"\"CREATE TABLE books (\n",
    "     book_id text PRIMARY KEY,\n",
    "     title text NOT NULL,\n",
    "     author_fname text NOT NULL,\n",
    "     author_lname text NOT NULL,\n",
    "     first_publish_year text NOT NULL\n",
    "     )\"\"\""
   ]
  },
  {
   "cell_type": "markdown",
   "id": "236759f5",
   "metadata": {},
   "source": [
    "## Bridge table will use Author key and Book key to link book and author\n",
    "\n",
    "### author_id | book_id"
   ]
  },
  {
   "cell_type": "raw",
   "id": "d7411297",
   "metadata": {},
   "source": [
    "\"\"\"CREATE TABLE authors_books (\n",
    "     author_id text NOT NULL,\n",
    "     book_id text NOT NULL,\n",
    "     PRIMARY KEY (author_id, book_id),\n",
    "     FOREIGN KEY(author_id) REFERENCES authors(author_id),\n",
    "     FOREIGN KEY(book_id) REFERENCES books(book_id)\n",
    "     )\"\"\""
   ]
  },
  {
   "cell_type": "markdown",
   "id": "2bdbf394",
   "metadata": {},
   "source": [
    "## Create DB and tables for the exercise"
   ]
  },
  {
   "cell_type": "code",
   "execution_count": 60,
   "id": "7816bc63",
   "metadata": {},
   "outputs": [],
   "source": [
    "conn = sqlite3.connect('author_books.db')\n",
    "c = conn.cursor()"
   ]
  },
  {
   "cell_type": "code",
   "execution_count": 61,
   "id": "596b070b",
   "metadata": {},
   "outputs": [
    {
     "data": {
      "text/plain": [
       "<sqlite3.Cursor at 0x1e69f051260>"
      ]
     },
     "execution_count": 61,
     "metadata": {},
     "output_type": "execute_result"
    }
   ],
   "source": [
    "c.execute(\"\"\"CREATE TABLE authors (\n",
    "    author_id text PRIMARY KEY,\n",
    "    first_name text NOT NULL,\n",
    "    last_name text NOT NULL,\n",
    "    birth_date text NOT NULL,\n",
    "    top_work text NOT NULL,\n",
    "    work_count integer NOT NULL\n",
    "    )\"\"\")\n",
    "\n",
    "c.execute(\"\"\"CREATE TABLE books (\n",
    "    book_id text PRIMARY KEY,\n",
    "    title text NOT NULL,\n",
    "    author_fname text NOT NULL,\n",
    "    author_lname text NOT NULL,\n",
    "    first_publish_year text NOT NULL\n",
    "    )\"\"\")\n",
    "\n",
    "c.execute(\"\"\"CREATE TABLE authors_books (\n",
    "    author_id text NOT NULL,\n",
    "    book_id text NOT NULL,\n",
    "    PRIMARY KEY (author_id, book_id),\n",
    "    FOREIGN KEY(author_id) REFERENCES authors(author_id),\n",
    "    FOREIGN KEY(book_id) REFERENCES books(book_id)\n",
    "    )\"\"\")"
   ]
  },
  {
   "cell_type": "code",
   "execution_count": 69,
   "id": "4d51f55a",
   "metadata": {},
   "outputs": [],
   "source": [
    "def db_table_authors_books(conn):\n",
    "    conn.execute(\"\"\"\n",
    "        SELECT a.author_id , b.book_id , b.title, a.first_name, a.last_name\n",
    "        FROM authors as a\n",
    "        JOIN authors_books ON a.author_id = authors_books.author_id\n",
    "        JOIN books as b ON b.book_id = authors_books.book_id\n",
    "    \"\"\")\n",
    "\n",
    "    result = conn.fetchall()\n",
    "    \n",
    "    return result"
   ]
  },
  {
   "cell_type": "code",
   "execution_count": 70,
   "id": "97a023aa",
   "metadata": {},
   "outputs": [
    {
     "data": {
      "text/plain": [
       "[]"
      ]
     },
     "execution_count": 70,
     "metadata": {},
     "output_type": "execute_result"
    }
   ],
   "source": [
    "db_table_authors_books(c)"
   ]
  },
  {
   "cell_type": "raw",
   "id": "ab64bd4a",
   "metadata": {},
   "source": [
    "QUERY to union the result of the 2 tables autors and books using the authors_books table\n",
    " \n",
    "c.execute(\"\"\"\n",
    "    SELECT a.author_id , b.book_id , b.title, a.first_name, a.last_name\n",
    "    FROM authors as a\n",
    "    JOIN authors_books ON a.author_id = authors_books.author_id\n",
    "    JOIN books as b ON b.book_id = authors_books.book_id\n",
    "\"\"\")"
   ]
  },
  {
   "cell_type": "raw",
   "id": "f53ba0f9",
   "metadata": {},
   "source": [
    "QUERY to insert into the authors table\n",
    "c.execute(\"\"\"INSERT INTO authors VALUES( ?,?,?,?,?,?)\"\"\",(author_id, first_name, last_name, birth_date, top_work, work_count))\n",
    "\n",
    "QUERY to insert into the books table\n",
    "c.execute(\"\"\"INSERT INTO books VALUES(?,?,?,?,?)\"\"\",(book_id, title, author_fname, author_lname, first_publish_year))\n",
    "\n",
    "QUERY to insert into the authors_books table\n",
    "c.execute(\"\"\"INSERT INTO <table> VALUES(?,?)\"\"\",(author_id, book_id))"
   ]
  },
  {
   "cell_type": "raw",
   "id": "4368ecb3",
   "metadata": {},
   "source": [
    "Converting sql query to a DataFrame for converting it to a CSV file \n",
    "\n",
    "df = pd.read_sql_query(f''SELECT * from {table}, conn)"
   ]
  }
 ],
 "metadata": {
  "kernelspec": {
   "display_name": "Python 3 (ipykernel)",
   "language": "python",
   "name": "python3"
  },
  "language_info": {
   "codemirror_mode": {
    "name": "ipython",
    "version": 3
   },
   "file_extension": ".py",
   "mimetype": "text/x-python",
   "name": "python",
   "nbconvert_exporter": "python",
   "pygments_lexer": "ipython3",
   "version": "3.9.11"
  }
 },
 "nbformat": 4,
 "nbformat_minor": 5
}
