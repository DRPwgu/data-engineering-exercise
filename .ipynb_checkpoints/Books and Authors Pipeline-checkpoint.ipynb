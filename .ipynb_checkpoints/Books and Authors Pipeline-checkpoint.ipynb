{
 "cells": [
  {
   "cell_type": "code",
   "execution_count": 3,
   "id": "35fa750b",
   "metadata": {},
   "outputs": [],
   "source": [
    "import requests\n",
    "import pandas as pd\n",
    "import sqlite3\n",
    "import json"
   ]
  },
  {
   "cell_type": "markdown",
   "id": "ed84409b",
   "metadata": {},
   "source": [
    "### Function to get the url API for Authors and return a the response as json"
   ]
  },
  {
   "cell_type": "code",
   "execution_count": 4,
   "id": "bc75edad",
   "metadata": {},
   "outputs": [],
   "source": [
    "def get_author_result(author):\n",
    "    result = requests.get(f'https://openlibrary.org/search/authors.json?q={author}')\n",
    "    if result.status_code == 200:\n",
    "        return result.json()\n",
    "    else:\n",
    "        raise Exception('Error downloading API response')"
   ]
  },
  {
   "cell_type": "markdown",
   "id": "e02e8807",
   "metadata": {},
   "source": [
    "### Function to get the url API for Titles and return a the response as json"
   ]
  },
  {
   "cell_type": "code",
   "execution_count": 5,
   "id": "7a390bf6",
   "metadata": {},
   "outputs": [],
   "source": [
    "def get_title_result(title):\n",
    "    result = requests.get(f'https://openlibrary.org/search.json?title={title}')\n",
    "    if result.status_code == 200:\n",
    "        return result.json()\n",
    "    else:\n",
    "        raise Exception('Error downloading API response')"
   ]
  },
  {
   "cell_type": "code",
   "execution_count": null,
   "id": "21248a7b",
   "metadata": {},
   "outputs": [],
   "source": []
  },
  {
   "cell_type": "markdown",
   "id": "6256a30a",
   "metadata": {},
   "source": [
    "## Author DB CSV and DataFrame will use the key in the json response as a primary key \n",
    "\n",
    "### author_id | first_name | last_name |  birth_date | top_work | work_count"
   ]
  },
  {
   "cell_type": "raw",
   "id": "cb19a586",
   "metadata": {},
   "source": [
    "\"\"\"CREATE TABLE authors (\n",
    "    author_id text PRIMARY KEY,\n",
    " \tfirst_name text NOT NULL,\n",
    " \tlast_name text NOT NULL,\n",
    " \tbirth_date text NOT NULL,\n",
    " \ttop_work text NOT NULL,\n",
    " \twork_count integer NOT NULL\n",
    " \t)\"\"\""
   ]
  },
  {
   "cell_type": "markdown",
   "id": "0d54c835",
   "metadata": {},
   "source": [
    "## Books DB CSV and DataFrame will use the key in the json responce as a primary key\n",
    "\n",
    "### book_id | title | author_fname | author_lname | first_publish_year | "
   ]
  },
  {
   "cell_type": "raw",
   "id": "d1f1f0ef",
   "metadata": {},
   "source": [
    "\"\"\"CREATE TABLE books (\n",
    "     book_id text PRIMARY KEY,\n",
    "     title text NOT NULL,\n",
    "     author_fname text NOT NULL,\n",
    "     author_lname text NOT NULL,\n",
    "     first_publish_year text NOT NULL\n",
    "     )\"\"\""
   ]
  },
  {
   "cell_type": "markdown",
   "id": "c4c35944",
   "metadata": {},
   "source": [
    "## Bridge table will use Author key and Book key to link book and author\n",
    "\n",
    "### author_id | book_id"
   ]
  },
  {
   "cell_type": "raw",
   "id": "a81136fa",
   "metadata": {},
   "source": [
    "\"\"\"CREATE TABLE authors_books (\n",
    "     author_id text NOT NULL,\n",
    "     book_id text NOT NULL,\n",
    "     PRIMARY KEY (author_id, book_id),\n",
    "     FOREIGN KEY(author_id) REFERENCES authors(author_id),\n",
    "     FOREIGN KEY(book_id) REFERENCES books(book_id)\n",
    "     )\"\"\""
   ]
  },
  {
   "cell_type": "markdown",
   "id": "890a067d",
   "metadata": {},
   "source": [
    "## Create DB and tables for the exercise"
   ]
  },
  {
   "cell_type": "code",
   "execution_count": null,
   "id": "b9706b16",
   "metadata": {},
   "outputs": [],
   "source": [
    "conn = sqlite3.connect('author_books.db')\n",
    "c = conn.cursor()"
   ]
  },
  {
   "cell_type": "code",
   "execution_count": null,
   "id": "0b1e60df",
   "metadata": {},
   "outputs": [],
   "source": [
    "c.execute(\"\"\"CREATE TABLE authors (\n",
    "\tauthor_id text PRIMARY KEY,\n",
    "\tfirst_name text NOT NULL,\n",
    "\tlast_name text NOT NULL,\n",
    "\tbirth_date text NOT NULL,\n",
    "\ttop_work text NOT NULL,\n",
    "\twork_count integer NOT NULL\n",
    "\t)\"\"\")\n",
    "\n",
    "c.execute(\"\"\"CREATE TABLE books (\n",
    "    book_id text PRIMARY KEY,\n",
    "    title text NOT NULL,\n",
    "    author_fname text NOT NULL,\n",
    "    author_lname text NOT NULL,\n",
    "    first_publish_year text NOT NULL\n",
    "    )\"\"\")\n",
    "\n",
    "c.execute(\"\"\"CREATE TABLE authors_books (\n",
    "    author_id text NOT NULL,\n",
    "    book_id text NOT NULL,\n",
    "    PRIMARY KEY (author_id, book_id),\n",
    "    FOREIGN KEY(author_id) REFERENCES authors(author_id),\n",
    "    FOREIGN KEY(book_id) REFERENCES books(book_id)\n",
    "    )\"\"\")"
   ]
  },
  {
   "cell_type": "raw",
   "id": "a074318c",
   "metadata": {},
   "source": [
    "QUERY to union the result of the 2 tables autors and books using the authors_books table\n",
    " \n",
    "c.execute(\"\"\"\n",
    "    SELECT a.author_id , b.book_id , b.title, a.first_name, a.last_name\n",
    "    FROM authors as a\n",
    "    JOIN authors_books ON a.author_id = authors_books.author_id\n",
    "    JOIN books as b ON b.book_id = authors_books.book_id\n",
    "\"\"\")"
   ]
  },
  {
   "cell_type": "raw",
   "id": "5e34dc33",
   "metadata": {},
   "source": [
    "QUERY to insert into the authors table\n",
    "c.execute(\"\"\"INSERT INTO <table> VALUES( ?,?,?,?,?,?)\"\"\",(author_id, first_name, last_name, birth_date, top_work, work_count))\n",
    "\n",
    "QUERY to insert into the books table\n",
    "c.execute(\"\"\"INSERT INTO <table> VALUES(?,?,?,?,?)\"\"\",(book_id, title, author_fname, author_lname, first_publish_year))\n",
    "\n",
    "QUERY to insert into the authors_books table\n",
    "c.execute(\"\"\"INSERT INTO <table> VALUES(?,?)\"\"\",(author_id, book_id))"
   ]
  },
  {
   "cell_type": "raw",
   "id": "bc7eda2f",
   "metadata": {},
   "source": [
    "Converting sql query to a DataFrame for converting it to a CSV file \n",
    "\n",
    "df = pd.read_sql_query(f''SELECT * from {table}, conn)"
   ]
  }
 ],
 "metadata": {
  "kernelspec": {
   "display_name": "Python 3 (ipykernel)",
   "language": "python",
   "name": "python3"
  },
  "language_info": {
   "codemirror_mode": {
    "name": "ipython",
    "version": 3
   },
   "file_extension": ".py",
   "mimetype": "text/x-python",
   "name": "python",
   "nbconvert_exporter": "python",
   "pygments_lexer": "ipython3",
   "version": "3.9.11"
  }
 },
 "nbformat": 4,
 "nbformat_minor": 5
}
